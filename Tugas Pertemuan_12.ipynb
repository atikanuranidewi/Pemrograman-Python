{
  "nbformat": 4,
  "nbformat_minor": 0,
  "metadata": {
    "colab": {
      "name": "Tugas Pertemuan 12.ipynb",
      "provenance": [],
      "include_colab_link": true
    },
    "kernelspec": {
      "name": "python3",
      "display_name": "Python 3"
    }
  },
  "cells": [
    {
      "cell_type": "markdown",
      "metadata": {
        "id": "view-in-github",
        "colab_type": "text"
      },
      "source": [
        "<a href=\"https://colab.research.google.com/github/atikanuranidewi/Pemrograman-Python/blob/main/Tugas%20Pertemuan_12.ipynb\" target=\"_parent\"><img src=\"https://colab.research.google.com/assets/colab-badge.svg\" alt=\"Open In Colab\"/></a>"
      ]
    },
    {
      "cell_type": "code",
      "metadata": {
        "id": "cmN1vxpkp0-h"
      },
      "source": [
        "import numpy as np"
      ],
      "execution_count": 1,
      "outputs": []
    },
    {
      "cell_type": "code",
      "metadata": {
        "colab": {
          "base_uri": "https://localhost:8080/"
        },
        "id": "0wWEIzf2p_oY",
        "outputId": "12609022-ab7f-437b-9b87-cf61ae81a903"
      },
      "source": [
        "fc=int(input(\"Masukan Nilai fc (400000000 s/d 2000000000) = \"))\r\n",
        "hT=int(input(\"Masukan Nilai hT (30 s/d 200 meter) = \"))\r\n",
        "hR=int(input(\"Masukan Nilai hR (1 s/d 30 meter) = \"))\r\n",
        "d=int(input(\"Masukan Nilai jarak pengirim dan penerima (km) = \"))\r\n",
        "area=input(\"Tipe area (Urban, Suburban, Open) = \")"
      ],
      "execution_count": 13,
      "outputs": [
        {
          "output_type": "stream",
          "text": [
            "Masukan Nilai fc (400000000 s/d 2000000000) = 2000000000\n",
            "Masukan Nilai hT (30 s/d 200 meter) = 200\n",
            "Masukan Nilai hR (1 s/d 30 meter) = 30\n",
            "Masukan Nilai jarak pengirim dan penerima (km) = 20\n",
            "Tipe area (Urban, Suburban, Open) = Open\n"
          ],
          "name": "stdout"
        }
      ]
    },
    {
      "cell_type": "code",
      "metadata": {
        "id": "TxFw0iSsqGaM"
      },
      "source": [
        "#fc=600000000\r\n",
        "#hT=40\r\n",
        "#hR=20\r\n",
        "#d=20\r\n",
        "#area='Suburban'"
      ],
      "execution_count": 14,
      "outputs": []
    },
    {
      "cell_type": "code",
      "metadata": {
        "id": "71Ip4DE6qJxR"
      },
      "source": [
        "NtL = lambda x: 10*np.log10(x)"
      ],
      "execution_count": 15,
      "outputs": []
    },
    {
      "cell_type": "code",
      "metadata": {
        "colab": {
          "base_uri": "https://localhost:8080/"
        },
        "id": "IQlhDe1XqMGW",
        "outputId": "91dddc32-33ab-4c7f-afa4-13ed93a2bc1a"
      },
      "source": [
        "def nilaiFC(fc):\r\n",
        "  if fc<1500000000 and fc>=400000000:\r\n",
        "    C1,C2 = 69.55, 26.16\r\n",
        "  if fc<=2000000000 and fc>= 1500000000:\r\n",
        "    C1,C2 = 46.3, 33.9\r\n",
        "  return C1,C2\r\n",
        "nilaiFC(fc)"
      ],
      "execution_count": 16,
      "outputs": [
        {
          "output_type": "execute_result",
          "data": {
            "text/plain": [
              "(46.3, 33.9)"
            ]
          },
          "metadata": {
            "tags": []
          },
          "execution_count": 16
        }
      ]
    },
    {
      "cell_type": "code",
      "metadata": {
        "colab": {
          "base_uri": "https://localhost:8080/"
        },
        "id": "uWjxbbE0qOXD",
        "outputId": "126a54d7-71de-4035-c5b0-670dcdad92c4"
      },
      "source": [
        "def ahR(fc,hR):\r\n",
        "  a_hR=(1.1*np.log10(fc)-0.7)*hR-(1.56*np.log10(fc)-0.8)\r\n",
        "  return a_hR\r\n",
        "ahR(fc,hR)"
      ],
      "execution_count": 17,
      "outputs": [
        {
          "output_type": "execute_result",
          "data": {
            "text/plain": [
              "272.2243830636756"
            ]
          },
          "metadata": {
            "tags": []
          },
          "execution_count": 17
        }
      ]
    },
    {
      "cell_type": "code",
      "metadata": {
        "colab": {
          "base_uri": "https://localhost:8080/"
        },
        "id": "2WyyaghhqQYH",
        "outputId": "9a37d219-ac3f-4d55-d522-8e12b79b3c71"
      },
      "source": [
        "def CM(fc,area):\r\n",
        "  if area=='Urban':\r\n",
        "    Cm = 0\r\n",
        "  if area=='Suburban':\r\n",
        "    Cm = -2*((np.log10(fc/28))**2) - 5.4\r\n",
        "  if area=='Open':\r\n",
        "    Cm = -4.78*((np.log10(fc))**2) + 18.33*np.log10(fc) - 40.94\r\n",
        "  return Cm\r\n",
        "CM(fc,area)"
      ],
      "execution_count": 18,
      "outputs": [
        {
          "output_type": "execute_result",
          "data": {
            "text/plain": [
              "-283.9659001050319"
            ]
          },
          "metadata": {
            "tags": []
          },
          "execution_count": 18
        }
      ]
    },
    {
      "cell_type": "code",
      "metadata": {
        "colab": {
          "base_uri": "https://localhost:8080/"
        },
        "id": "sFrukEtDqSsB",
        "outputId": "d248ad7e-1389-40f7-9419-1aa84440629c"
      },
      "source": [
        "def pathloss(fc,hT,d):\r\n",
        "  C1,C2 = nilaiFC(fc)\r\n",
        "  a_hR = ahR(fc,hR)\r\n",
        "  Cm = CM(fc,area)\r\n",
        "  Lp = C1+C2*(np.log10(fc)) - 13.83*(np.log10(hT)) - a_hR + (44.9-6.55*(np.log10(hT)))*(np.log10(d)) + Cm\r\n",
        "  return Lp\r\n",
        "pathloss(fc,hT,d)"
      ],
      "execution_count": 19,
      "outputs": [
        {
          "output_type": "execute_result",
          "data": {
            "text/plain": [
              "-187.60115859701185"
            ]
          },
          "metadata": {
            "tags": []
          },
          "execution_count": 19
        }
      ]
    },
    {
      "cell_type": "code",
      "metadata": {
        "id": "WL2DVFZUqUyJ"
      },
      "source": [
        "#Lp = pathloss(fc,hT,d)\r\n",
        "#print(\"Pathloss = \",Lp,\"dB\")"
      ],
      "execution_count": 20,
      "outputs": []
    },
    {
      "cell_type": "code",
      "metadata": {
        "colab": {
          "base_uri": "https://localhost:8080/"
        },
        "id": "9BBHCxgIqXVD",
        "outputId": "2ec8fe64-3bfd-401d-c07c-e5f220e09db3"
      },
      "source": [
        "#Ketika Path Loss belum dalam dB\r\n",
        "Lp = pathloss(fc,hT,d)\r\n",
        "LpdB = NtL(Lp)\r\n",
        "print (\"Path Loss dalam dB = \", LpdB, \"dB\")\r\n",
        "print (\"Path Loss dalam Numerik = \", Lp)\r\n",
        "\r\n",
        "\r\n",
        "#Ketika Path Loss sudah dalam dB\r\n",
        "Lp = pathloss(fc,hT,d)\r\n",
        "print(\"\\nPath Loss dalam dB = \", Lp, \"dB\")\r\n"
      ],
      "execution_count": 23,
      "outputs": [
        {
          "output_type": "stream",
          "text": [
            "Path Loss dalam dB =  nan dB\n",
            "Path Loss dalam Numerik =  -187.60115859701185\n",
            "\n",
            "Path Loss dalam dB =  -187.60115859701185 dB\n"
          ],
          "name": "stdout"
        },
        {
          "output_type": "stream",
          "text": [
            "/usr/local/lib/python3.6/dist-packages/ipykernel_launcher.py:1: RuntimeWarning: invalid value encountered in log10\n",
            "  \"\"\"Entry point for launching an IPython kernel.\n"
          ],
          "name": "stderr"
        }
      ]
    },
    {
      "cell_type": "code",
      "metadata": {
        "id": "kNV1eO8YqZ_F"
      },
      "source": [
        ""
      ],
      "execution_count": null,
      "outputs": []
    }
  ]
}